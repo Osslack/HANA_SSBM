{
 "cells": [
  {
   "cell_type": "markdown",
   "metadata": {},
   "source": [
    "# Interpretation der HANA - SSBM Benchmark Log Datein\n",
    "\n",
    "## Settings\n",
    "\n",
    "Please adjust the following paths according to your environment."
   ]
  },
  {
   "cell_type": "code",
   "execution_count": 1,
   "metadata": {
    "collapsed": true
   },
   "outputs": [],
   "source": [
    "from util import Analyser\n",
    "LOG_PATH=\"../../../ssbm/log.log\"\n",
    "analyser = Analyser(LOG_PATH)"
   ]
  },
  {
   "cell_type": "markdown",
   "metadata": {},
   "source": [
    "## Repetitions"
   ]
  },
  {
   "cell_type": "code",
   "execution_count": 2,
   "metadata": {
    "scrolled": true
   },
   "outputs": [
    {
     "name": "stdout",
     "output_type": "stream",
     "text": [
      "100\n"
     ]
    }
   ],
   "source": [
    "print(analyser.get_repetitions())"
   ]
  },
  {
   "cell_type": "markdown",
   "metadata": {},
   "source": [
    "## Row"
   ]
  },
  {
   "cell_type": "code",
   "execution_count": 3,
   "metadata": {
    "scrolled": false
   },
   "outputs": [
    {
     "data": {
      "text/html": [
       "<table><tbody><tr><td>Samples</td><td>100</td></tr><tr><td>Average</td><td>4761979</td></tr><tr><td>Min</td><td>4593863</td></tr><tr><td>Max</td><td>5039748</td></tr><tr><td>Median</td><td>4737774</td></tr><tr><td>Standard Deviation</td><td>105370</td></tr><tr><td>Total</td><td>476197852</td></tr></tbody></table>"
      ],
      "text/plain": [
       "<IPython.core.display.HTML object>"
      ]
     },
     "metadata": {},
     "output_type": "display_data"
    }
   ],
   "source": [
    "benchmark = analyser.get_row_benchmark()\n",
    "benchmark.print_stats()"
   ]
  },
  {
   "cell_type": "code",
   "execution_count": 4,
   "metadata": {},
   "outputs": [
    {
     "data": {
      "text/html": [
       "<table><tbody><tr><td>Samples</td><td>100</td></tr><tr><td>Average</td><td>151999</td></tr><tr><td>Min</td><td>142533</td></tr><tr><td>Max</td><td>202144</td></tr><tr><td>Median</td><td>149607</td></tr><tr><td>Standard Deviation</td><td>9359</td></tr><tr><td>Total</td><td>15199860</td></tr></tbody></table>"
      ],
      "text/plain": [
       "<IPython.core.display.HTML object>"
      ]
     },
     "metadata": {},
     "output_type": "display_data"
    },
    {
     "data": {
      "text/html": [
       "<table><tbody><tr><td>Samples</td><td>100</td></tr><tr><td>Average</td><td>180962</td></tr><tr><td>Min</td><td>176378</td></tr><tr><td>Max</td><td>212037</td></tr><tr><td>Median</td><td>179384</td></tr><tr><td>Standard Deviation</td><td>6291</td></tr><tr><td>Total</td><td>18096218</td></tr></tbody></table>"
      ],
      "text/plain": [
       "<IPython.core.display.HTML object>"
      ]
     },
     "metadata": {},
     "output_type": "display_data"
    },
    {
     "data": {
      "text/html": [
       "<table><tbody><tr><td>Samples</td><td>100</td></tr><tr><td>Average</td><td>148014</td></tr><tr><td>Min</td><td>138126</td></tr><tr><td>Max</td><td>176785</td></tr><tr><td>Median</td><td>146022</td></tr><tr><td>Standard Deviation</td><td>8537</td></tr><tr><td>Total</td><td>14801386</td></tr></tbody></table>"
      ],
      "text/plain": [
       "<IPython.core.display.HTML object>"
      ]
     },
     "metadata": {},
     "output_type": "display_data"
    },
    {
     "data": {
      "text/html": [
       "<table><tbody><tr><td>Samples</td><td>100</td></tr><tr><td>Average</td><td>189467</td></tr><tr><td>Min</td><td>176739</td></tr><tr><td>Max</td><td>226761</td></tr><tr><td>Median</td><td>187216</td></tr><tr><td>Standard Deviation</td><td>11475</td></tr><tr><td>Total</td><td>18946671</td></tr></tbody></table>"
      ],
      "text/plain": [
       "<IPython.core.display.HTML object>"
      ]
     },
     "metadata": {},
     "output_type": "display_data"
    },
    {
     "data": {
      "text/html": [
       "<table><tbody><tr><td>Samples</td><td>100</td></tr><tr><td>Average</td><td>293886</td></tr><tr><td>Min</td><td>278687</td></tr><tr><td>Max</td><td>375196</td></tr><tr><td>Median</td><td>287957</td></tr><tr><td>Standard Deviation</td><td>17417</td></tr><tr><td>Total</td><td>29388553</td></tr></tbody></table>"
      ],
      "text/plain": [
       "<IPython.core.display.HTML object>"
      ]
     },
     "metadata": {},
     "output_type": "display_data"
    },
    {
     "data": {
      "text/html": [
       "<table><tbody><tr><td>Samples</td><td>100</td></tr><tr><td>Average</td><td>120637</td></tr><tr><td>Min</td><td>110088</td></tr><tr><td>Max</td><td>212703</td></tr><tr><td>Median</td><td>118301</td></tr><tr><td>Standard Deviation</td><td>11599</td></tr><tr><td>Total</td><td>12063689</td></tr></tbody></table>"
      ],
      "text/plain": [
       "<IPython.core.display.HTML object>"
      ]
     },
     "metadata": {},
     "output_type": "display_data"
    },
    {
     "data": {
      "text/html": [
       "<table><tbody><tr><td>Samples</td><td>100</td></tr><tr><td>Average</td><td>165820</td></tr><tr><td>Min</td><td>157310</td></tr><tr><td>Max</td><td>218358</td></tr><tr><td>Median</td><td>162092</td></tr><tr><td>Standard Deviation</td><td>10093</td></tr><tr><td>Total</td><td>16581974</td></tr></tbody></table>"
      ],
      "text/plain": [
       "<IPython.core.display.HTML object>"
      ]
     },
     "metadata": {},
     "output_type": "display_data"
    },
    {
     "data": {
      "text/html": [
       "<table><tbody><tr><td>Samples</td><td>100</td></tr><tr><td>Average</td><td>135768</td></tr><tr><td>Min</td><td>126337</td></tr><tr><td>Max</td><td>164454</td></tr><tr><td>Median</td><td>133634</td></tr><tr><td>Standard Deviation</td><td>8515</td></tr><tr><td>Total</td><td>13576828</td></tr></tbody></table>"
      ],
      "text/plain": [
       "<IPython.core.display.HTML object>"
      ]
     },
     "metadata": {},
     "output_type": "display_data"
    },
    {
     "data": {
      "text/html": [
       "<table><tbody><tr><td>Samples</td><td>100</td></tr><tr><td>Average</td><td>111275</td></tr><tr><td>Min</td><td>103685</td></tr><tr><td>Max</td><td>150873</td></tr><tr><td>Median</td><td>108560</td></tr><tr><td>Standard Deviation</td><td>7800</td></tr><tr><td>Total</td><td>11127489</td></tr></tbody></table>"
      ],
      "text/plain": [
       "<IPython.core.display.HTML object>"
      ]
     },
     "metadata": {},
     "output_type": "display_data"
    },
    {
     "data": {
      "text/html": [
       "<table><tbody><tr><td>Samples</td><td>100</td></tr><tr><td>Average</td><td>194747</td></tr><tr><td>Min</td><td>188819</td></tr><tr><td>Max</td><td>242344</td></tr><tr><td>Median</td><td>192518</td></tr><tr><td>Standard Deviation</td><td>9192</td></tr><tr><td>Total</td><td>19474735</td></tr></tbody></table>"
      ],
      "text/plain": [
       "<IPython.core.display.HTML object>"
      ]
     },
     "metadata": {},
     "output_type": "display_data"
    },
    {
     "data": {
      "text/html": [
       "<table><tbody><tr><td>Samples</td><td>100</td></tr><tr><td>Average</td><td>703098</td></tr><tr><td>Min</td><td>680774</td></tr><tr><td>Max</td><td>795311</td></tr><tr><td>Median</td><td>698244</td></tr><tr><td>Standard Deviation</td><td>21967</td></tr><tr><td>Total</td><td>70309783</td></tr></tbody></table>"
      ],
      "text/plain": [
       "<IPython.core.display.HTML object>"
      ]
     },
     "metadata": {},
     "output_type": "display_data"
    },
    {
     "data": {
      "text/html": [
       "<table><tbody><tr><td>Samples</td><td>100</td></tr><tr><td>Average</td><td>653510</td></tr><tr><td>Min</td><td>617819</td></tr><tr><td>Max</td><td>760210</td></tr><tr><td>Median</td><td>643298</td></tr><tr><td>Standard Deviation</td><td>31450</td></tr><tr><td>Total</td><td>65350975</td></tr></tbody></table>"
      ],
      "text/plain": [
       "<IPython.core.display.HTML object>"
      ]
     },
     "metadata": {},
     "output_type": "display_data"
    },
    {
     "data": {
      "text/html": [
       "<table><tbody><tr><td>Samples</td><td>100</td></tr><tr><td>Average</td><td>254746</td></tr><tr><td>Min</td><td>241707</td></tr><tr><td>Max</td><td>300192</td></tr><tr><td>Median</td><td>249759</td></tr><tr><td>Standard Deviation</td><td>14084</td></tr><tr><td>Total</td><td>25474580</td></tr></tbody></table>"
      ],
      "text/plain": [
       "<IPython.core.display.HTML object>"
      ]
     },
     "metadata": {},
     "output_type": "display_data"
    },
    {
     "data": {
      "text/html": [
       "<table><tbody><tr><td>Samples</td><td>100</td></tr><tr><td>Average</td><td>554231</td></tr><tr><td>Min</td><td>540634</td></tr><tr><td>Max</td><td>656550</td></tr><tr><td>Median</td><td>550158</td></tr><tr><td>Standard Deviation</td><td>17357</td></tr><tr><td>Total</td><td>55423148</td></tr></tbody></table>"
      ],
      "text/plain": [
       "<IPython.core.display.HTML object>"
      ]
     },
     "metadata": {},
     "output_type": "display_data"
    },
    {
     "data": {
      "text/html": [
       "<table><tbody><tr><td>Samples</td><td>100</td></tr><tr><td>Average</td><td>177473</td></tr><tr><td>Min</td><td>173481</td></tr><tr><td>Max</td><td>208253</td></tr><tr><td>Median</td><td>176154</td></tr><tr><td>Standard Deviation</td><td>6258</td></tr><tr><td>Total</td><td>17747284</td></tr></tbody></table>"
      ],
      "text/plain": [
       "<IPython.core.display.HTML object>"
      ]
     },
     "metadata": {},
     "output_type": "display_data"
    },
    {
     "data": {
      "text/html": [
       "<table><tbody><tr><td>Samples</td><td>100</td></tr><tr><td>Average</td><td>480123</td></tr><tr><td>Min</td><td>450670</td></tr><tr><td>Max</td><td>563463</td></tr><tr><td>Median</td><td>475802</td></tr><tr><td>Standard Deviation</td><td>20828</td></tr><tr><td>Total</td><td>48012346</td></tr></tbody></table>"
      ],
      "text/plain": [
       "<IPython.core.display.HTML object>"
      ]
     },
     "metadata": {},
     "output_type": "display_data"
    },
    {
     "data": {
      "text/html": [
       "<table><tbody><tr><td>Samples</td><td>100</td></tr><tr><td>Average</td><td>246223</td></tr><tr><td>Min</td><td>234113</td></tr><tr><td>Max</td><td>320670</td></tr><tr><td>Median</td><td>241587</td></tr><tr><td>Standard Deviation</td><td>13295</td></tr><tr><td>Total</td><td>24622333</td></tr></tbody></table>"
      ],
      "text/plain": [
       "<IPython.core.display.HTML object>"
      ]
     },
     "metadata": {},
     "output_type": "display_data"
    }
   ],
   "source": [
    "from util import display_table\n",
    "\n",
    "query_stats = benchmark.get_query_stats()\n",
    "for stat in query_stats:\n",
    "    display_table(stat.get_stats())"
   ]
  },
  {
   "cell_type": "markdown",
   "metadata": {},
   "source": [
    "## Column"
   ]
  },
  {
   "cell_type": "code",
   "execution_count": 5,
   "metadata": {
    "scrolled": true
   },
   "outputs": [
    {
     "data": {
      "text/html": [
       "<table><tbody><tr><td>Samples</td><td>100</td></tr><tr><td>Average</td><td>876750</td></tr><tr><td>Min</td><td>846935</td></tr><tr><td>Max</td><td>1012946</td></tr><tr><td>Median</td><td>875501</td></tr><tr><td>Standard Deviation</td><td>20302</td></tr><tr><td>Total</td><td>87675040</td></tr></tbody></table>"
      ],
      "text/plain": [
       "<IPython.core.display.HTML object>"
      ]
     },
     "metadata": {},
     "output_type": "display_data"
    }
   ],
   "source": [
    "benchmark = analyser.get_column_benchmark()\n",
    "benchmark.print_stats()"
   ]
  },
  {
   "cell_type": "code",
   "execution_count": 6,
   "metadata": {},
   "outputs": [
    {
     "data": {
      "text/html": [
       "<table><tbody><tr><td></td><td>Column Benchmark</td><td>Row Benchmark</td></tr><tr><td>Standard Deviation</td><td>20302</td><td>105370</td></tr><tr><td>Total</td><td>87675040</td><td>476197852</td></tr><tr><td>Max</td><td>1012946</td><td>5039748</td></tr><tr><td>Median</td><td>875501</td><td>4737774</td></tr><tr><td>Samples</td><td>100</td><td>100</td></tr><tr><td>Min</td><td>846935</td><td>4593863</td></tr><tr><td>Average</td><td>876750</td><td>4761979</td></tr></tbody></table>"
      ],
      "text/plain": [
       "<IPython.core.display.HTML object>"
      ]
     },
     "metadata": {},
     "output_type": "display_data"
    }
   ],
   "source": [
    "from util import Comparison\n",
    "\n",
    "column_benchmark = analyser.get_column_benchmark()\n",
    "row_benchmark = analyser.get_row_benchmark()\n",
    "comparison = Comparison(column_benchmark, row_benchmark)\n",
    "\n",
    "comparison.print()"
   ]
  },
  {
   "cell_type": "code",
   "execution_count": 7,
   "metadata": {},
   "outputs": [
    {
     "data": {
      "image/png": "[encoded data removed]",
      "text/plain": [
       "<matplotlib.figure.Figure at 0x108b0c588>"
      ]
     },
     "metadata": {},
     "output_type": "display_data"
    }
   ],
   "source": [
    "from matplotlib import pyplot as plt, mlab\n",
    "\n",
    "benchmark = analyser.get_column_benchmark()\n",
    "plt.plot(benchmark.get_times())\n",
    "plt.show()"
   ]
  },
  {
   "cell_type": "code",
   "execution_count": 8,
   "metadata": {},
   "outputs": [
    {
     "data": {
      "image/png": "[encoded data removed]",
      "text/plain": [
       "<matplotlib.figure.Figure at 0x10a25d5f8>"
      ]
     },
     "metadata": {},
     "output_type": "display_data"
    }
   ],
   "source": [
    "benchmark = analyser.get_row_benchmark()\n",
    "plt.plot(benchmark.get_times())\n",
    "plt.show()"
   ]
  }
 ],
 "metadata": {
  "kernelspec": {
   "display_name": "Python 3",
   "language": "python",
   "name": "python3"
  },
  "language_info": {
   "codemirror_mode": {
    "name": "ipython",
    "version": 3
   },
   "file_extension": ".py",
   "mimetype": "text/x-python",
   "name": "python",
   "nbconvert_exporter": "python",
   "pygments_lexer": "ipython3",
   "version": "3.4.6"
  }
 },
 "nbformat": 4,
 "nbformat_minor": 2
}
