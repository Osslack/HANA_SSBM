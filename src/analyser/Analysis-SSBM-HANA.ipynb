{
 "cells": [
  {
   "cell_type": "markdown",
   "metadata": {},
   "source": [
    "# Interpretation der HANA - SSBM Benchmark Log Datein\n",
    "\n",
    "## Settings\n",
    "\n",
    "Please adjust the following paths according to your environment."
   ]
  },
  {
   "cell_type": "code",
   "execution_count": 1,
   "metadata": {},
   "outputs": [],
   "source": [
    "from util import Analyser\n",
    "LOG_PATH=\"../../../ssbm/log.log\"\n",
    "analyser = Analyser(LOG_PATH)"
   ]
  },
  {
   "cell_type": "markdown",
   "metadata": {},
   "source": [
    "## Repetitions"
   ]
  },
  {
   "cell_type": "code",
   "execution_count": 2,
   "metadata": {
    "scrolled": true
   },
   "outputs": [
    {
     "name": "stdout",
     "output_type": "stream",
     "text": [
      "250\n"
     ]
    }
   ],
   "source": [
    "print(analyser.get_repetitions())"
   ]
  },
  {
   "cell_type": "markdown",
   "metadata": {},
   "source": [
    "## Row"
   ]
  },
  {
   "cell_type": "code",
   "execution_count": 3,
   "metadata": {
    "scrolled": true
   },
   "outputs": [
    {
     "data": {
      "text/html": [
       "<table><tbody><tr><td>Samples</td><td>10000</td></tr><tr><td>Average</td><td>136903.7732</td></tr><tr><td>Min</td><td>88</td></tr><tr><td>Max</td><td>490169</td></tr><tr><td>Median</td><td>153616.0</td></tr><tr><td>Standard Deviation</td><td>112970.001466</td></tr><tr><td>Total</td><td>1369037732</td></tr></tbody></table>"
      ],
      "text/plain": [
       "<IPython.core.display.HTML object>"
      ]
     },
     "metadata": {},
     "output_type": "display_data"
    }
   ],
   "source": [
    "benchmark = analyser.get_row_benchmark()\n",
    "analyser.print_benchmark_stats(benchmark)"
   ]
  },
  {
   "cell_type": "markdown",
   "metadata": {},
   "source": [
    "## Column"
   ]
  },
  {
   "cell_type": "code",
   "execution_count": 4,
   "metadata": {
    "scrolled": true
   },
   "outputs": [
    {
     "data": {
      "text/html": [
       "<table><tbody><tr><td>Samples</td><td>10000</td></tr><tr><td>Average</td><td>19194.759</td></tr><tr><td>Min</td><td>83</td></tr><tr><td>Max</td><td>89707</td></tr><tr><td>Median</td><td>16610.5</td></tr><tr><td>Standard Deviation</td><td>18632.631692</td></tr><tr><td>Total</td><td>191947590</td></tr></tbody></table>"
      ],
      "text/plain": [
       "<IPython.core.display.HTML object>"
      ]
     },
     "metadata": {},
     "output_type": "display_data"
    }
   ],
   "source": [
    "benchmark = analyser.get_column_benchmark()\n",
    "analyser.print_benchmark_stats(benchmark)"
   ]
  },
  {
   "cell_type": "code",
   "execution_count": 5,
   "metadata": {},
   "outputs": [
    {
     "name": "stdout",
     "output_type": "stream",
     "text": [
      "[[['', 'Column Benchmark', 'Row Benchmark']]]\n"
     ]
    },
    {
     "data": {
      "text/html": [
       "<table><tbody><tr><td>['', 'Column Benchmark', 'Row Benchmark']</td></tr><tr><td>['Min', 83, 88]</td><td>['Standard Deviation', 18632.631691983795, 112970.00146618023]</td><td>['Average', 19194.758999999998, 136903.7732]</td><td>['Median', 16610.5, 153616.0]</td><td>['Samples', 10000, 10000]</td><td>['Max', 89707, 490169]</td><td>['Total', 191947590, 1369037732]</td></tr></tbody></table>"
      ],
      "text/plain": [
       "<IPython.core.display.HTML object>"
      ]
     },
     "metadata": {},
     "output_type": "display_data"
    }
   ],
   "source": [
    "from util import Comparison\n",
    "\n",
    "column_benchmark = analyser.get_column_benchmark()\n",
    "row_benchmark = analyser.get_row_benchmark()\n",
    "comparison = Comparison(column_benchmark, row_benchmark)\n",
    "\n",
    "comparison.print()"
   ]
  },
  {
   "cell_type": "code",
   "execution_count": 6,
   "metadata": {},
   "outputs": [
    {
     "data": {
      "image/png": "[encoded data removed]",
      "text/plain": [
       "<matplotlib.figure.Figure at 0x1071b00f0>"
      ]
     },
     "metadata": {},
     "output_type": "display_data"
    }
   ],
   "source": [
    "from matplotlib import pyplot as plt, mlab\n",
    "\n",
    "benchmark = analyser.get_column_benchmark()\n",
    "plt.plot(benchmark.get_times())\n",
    "plt.show()"
   ]
  }
 ],
 "metadata": {
  "kernelspec": {
   "display_name": "Python 3",
   "language": "python",
   "name": "python3"
  },
  "language_info": {
   "codemirror_mode": {
    "name": "ipython",
    "version": 3
   },
   "file_extension": ".py",
   "mimetype": "text/x-python",
   "name": "python",
   "nbconvert_exporter": "python",
   "pygments_lexer": "ipython3",
   "version": "3.4.6"
  }
 },
 "nbformat": 4,
 "nbformat_minor": 2
}
