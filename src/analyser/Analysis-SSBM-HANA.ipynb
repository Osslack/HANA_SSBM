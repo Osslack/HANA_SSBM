{
 "cells": [
  {
   "cell_type": "markdown",
   "metadata": {
    "deletable": true,
    "editable": true
   },
   "source": [
    "# Analyse der HANA - SSBM Benchmark Log Dateien\n",
    "\n",
    "## Einstellungen\n",
    "\n",
    "Bitte passen sie die Einstellungen bei Bedarf an."
   ]
  },
  {
   "cell_type": "code",
   "execution_count": 1,
   "metadata": {
    "collapsed": false,
    "deletable": true,
    "editable": true
   },
   "outputs": [
    {
     "ename": "ImportError",
     "evalue": "No module named 'numpy'",
     "output_type": "error",
     "traceback": [
      "\u001b[0;31m---------------------------------------------------------------------------\u001b[0m",
      "\u001b[0;31mImportError\u001b[0m                               Traceback (most recent call last)",
      "\u001b[0;32m<ipython-input-1-357a541ac5ab>\u001b[0m in \u001b[0;36m<module>\u001b[0;34m()\u001b[0m\n\u001b[0;32m----> 1\u001b[0;31m \u001b[0;32mfrom\u001b[0m \u001b[0mutil\u001b[0m \u001b[0;32mimport\u001b[0m \u001b[0mAnalyser\u001b[0m\u001b[0;34m\u001b[0m\u001b[0m\n\u001b[0m\u001b[1;32m      2\u001b[0m \u001b[0mLOG_PATH_ROOT\u001b[0m\u001b[0;34m=\u001b[0m\u001b[0;34m\"./\"\u001b[0m\u001b[0;34m\u001b[0m\u001b[0m\n\u001b[1;32m      3\u001b[0m \u001b[0manalyser\u001b[0m \u001b[0;34m=\u001b[0m \u001b[0mAnalyser\u001b[0m\u001b[0;34m(\u001b[0m\u001b[0mLOG_PATH_ROOT\u001b[0m \u001b[0;34m+\u001b[0m \u001b[0;34m\"logMain.log\"\u001b[0m\u001b[0;34m)\u001b[0m\u001b[0;34m\u001b[0m\u001b[0m\n",
      "\u001b[0;32m/home/simon/HANA_SSBM/src/analyser/util/__init__.py\u001b[0m in \u001b[0;36m<module>\u001b[0;34m()\u001b[0m\n\u001b[0;32m----> 1\u001b[0;31m \u001b[0;32mfrom\u001b[0m \u001b[0;34m.\u001b[0m\u001b[0manalyser\u001b[0m \u001b[0;32mimport\u001b[0m \u001b[0mAnalyser\u001b[0m\u001b[0;34m,\u001b[0m \u001b[0mComparison\u001b[0m\u001b[0;34m,\u001b[0m \u001b[0mdisplay_table\u001b[0m\u001b[0;34m\u001b[0m\u001b[0m\n\u001b[0m\u001b[1;32m      2\u001b[0m \u001b[0;32mfrom\u001b[0m \u001b[0;34m.\u001b[0m\u001b[0mtable\u001b[0m \u001b[0;32mimport\u001b[0m \u001b[0mdisplay_table\u001b[0m\u001b[0;34m\u001b[0m\u001b[0m\n",
      "\u001b[0;32m/home/simon/HANA_SSBM/src/analyser/util/analyser.py\u001b[0m in \u001b[0;36m<module>\u001b[0;34m()\u001b[0m\n\u001b[1;32m      1\u001b[0m \u001b[0;31m#from terminaltables import AsciiTable as Table\u001b[0m\u001b[0;34m\u001b[0m\u001b[0;34m\u001b[0m\u001b[0m\n\u001b[0;32m----> 2\u001b[0;31m \u001b[0;32mfrom\u001b[0m \u001b[0mnumpy\u001b[0m \u001b[0;32mimport\u001b[0m \u001b[0mmedian\u001b[0m\u001b[0;34m,\u001b[0m \u001b[0maverage\u001b[0m\u001b[0;34m,\u001b[0m \u001b[0mstd\u001b[0m\u001b[0;34m\u001b[0m\u001b[0m\n\u001b[0m\u001b[1;32m      3\u001b[0m \u001b[0;32mfrom\u001b[0m \u001b[0;34m.\u001b[0m\u001b[0mtable\u001b[0m \u001b[0;32mimport\u001b[0m \u001b[0mdisplay_table\u001b[0m\u001b[0;34m\u001b[0m\u001b[0m\n\u001b[1;32m      4\u001b[0m \u001b[0;32mimport\u001b[0m \u001b[0mre\u001b[0m\u001b[0;34m\u001b[0m\u001b[0m\n\u001b[1;32m      5\u001b[0m \u001b[0;32mimport\u001b[0m \u001b[0mjson\u001b[0m\u001b[0;34m\u001b[0m\u001b[0m\n",
      "\u001b[0;31mImportError\u001b[0m: No module named 'numpy'"
     ]
    }
   ],
   "source": [
    "from util import Analyser\n",
    "LOG_PATH_ROOT=\"./\"\n",
    "analyser = Analyser(LOG_PATH_ROOT + \"logMain.log\")"
   ]
  },
  {
   "cell_type": "markdown",
   "metadata": {
    "deletable": true,
    "editable": true
   },
   "source": [
    "## Allgemein:\n",
    "Im folgenden wird die allgemeine Laufzeit des Benchmarks analysiert\n",
    "mit folgenden Testspezifikationen\n",
    "\n",
    "Wiederholungen:"
   ]
  },
  {
   "cell_type": "code",
   "execution_count": null,
   "metadata": {
    "collapsed": false,
    "deletable": true,
    "editable": true,
    "scrolled": true
   },
   "outputs": [],
   "source": [
    "print(analyser.get_repetitions())"
   ]
  },
  {
   "cell_type": "markdown",
   "metadata": {
    "deletable": true,
    "editable": true
   },
   "source": [
    "CPU: Intel i7 4.2ghz\n",
    "\n",
    "CPU Kerne: 6\n",
    "\n",
    "RAM: 8GB"
   ]
  },
  {
   "cell_type": "markdown",
   "metadata": {
    "deletable": true,
    "editable": true
   },
   "source": [
    "### Zeilenbasiert\n",
    "Im folgenden wird die allgemeine Laufzeit des Benchmarks\n",
    "bei einem zeilenbasierten Schmata betrachtet."
   ]
  },
  {
   "cell_type": "code",
   "execution_count": null,
   "metadata": {
    "collapsed": false,
    "deletable": true,
    "editable": true,
    "scrolled": false
   },
   "outputs": [],
   "source": [
    "benchmark = analyser.get_row_benchmark()\n",
    "benchmark.print_stats()"
   ]
  },
  {
   "cell_type": "markdown",
   "metadata": {
    "deletable": true,
    "editable": true
   },
   "source": [
    "## Spaltenbasiert\n",
    "Im folgenden wird die allgemeine Laufzeit des Benchmarks bei einem\n",
    "spaltenbasierten Schemata betrachtet"
   ]
  },
  {
   "cell_type": "code",
   "execution_count": null,
   "metadata": {
    "collapsed": false,
    "deletable": true,
    "editable": true,
    "scrolled": true
   },
   "outputs": [],
   "source": [
    "benchmark = analyser.get_column_benchmark()\n",
    "benchmark.print_stats()"
   ]
  },
  {
   "cell_type": "markdown",
   "metadata": {
    "deletable": true,
    "editable": true
   },
   "source": [
    "### Vergleich Zeilenbasiert vs. Spaltenbasiert"
   ]
  },
  {
   "cell_type": "code",
   "execution_count": null,
   "metadata": {
    "collapsed": false,
    "deletable": true,
    "editable": true,
    "scrolled": true
   },
   "outputs": [],
   "source": [
    "from util import Comparison\n",
    "import re\n",
    "\n",
    "column_benchmark = analyser.get_column_benchmark()\n",
    "row_benchmark = analyser.get_row_benchmark()\n",
    "comparison = Comparison(column_benchmark, row_benchmark)\n",
    "\n",
    "comparison.set_title(\"Comparison Row- vs. Column Store\")\n",
    "comparison.compare_visually()"
   ]
  },
  {
   "cell_type": "code",
   "execution_count": null,
   "metadata": {
    "collapsed": false,
    "deletable": true,
    "editable": true
   },
   "outputs": [],
   "source": [
    "comparison.set_title(\"Comparison Row- vs. Column Store in usec\")\n",
    "comparison.compare_raw()"
   ]
  },
  {
   "cell_type": "code",
   "execution_count": null,
   "metadata": {
    "collapsed": false,
    "deletable": true,
    "editable": true,
    "scrolled": true
   },
   "outputs": [],
   "source": [
    "comparison.compare()"
   ]
  },
  {
   "cell_type": "code",
   "execution_count": null,
   "metadata": {
    "collapsed": false,
    "deletable": true,
    "editable": true,
    "scrolled": true
   },
   "outputs": [],
   "source": [
    "comparison.set_title(\"Comparison Row- vs. Column Store in msec\")\n",
    "comparison.compare(lambda x: x / 1000)"
   ]
  },
  {
   "cell_type": "markdown",
   "metadata": {
    "deletable": true,
    "editable": true
   },
   "source": [
    "## Vergleich Row Column"
   ]
  },
  {
   "cell_type": "code",
   "execution_count": null,
   "metadata": {
    "collapsed": false,
    "deletable": true,
    "editable": true,
    "scrolled": false
   },
   "outputs": [],
   "source": [
    "column_benchmark.set_prefix(\"column\")\n",
    "row_benchmark.set_prefix(\"row\")\n",
    "query_stats = column_benchmark.get_query_stats(lambda x: not re.search(\"\\\\.\", x))\n",
    "query_stats += row_benchmark.get_query_stats(lambda x: not re.search(\"\\\\.\", x))\n",
    "comparison = Comparison(*query_stats)\n",
    "comparison.set_title(\"Query Groups - Column vs. Row\")\n",
    "comparison.compare_visually()"
   ]
  },
  {
   "cell_type": "code",
   "execution_count": null,
   "metadata": {
    "collapsed": false,
    "deletable": true,
    "editable": true
   },
   "outputs": [],
   "source": [
    "comparison.set_title(\"Query Groups - Column vs. Row in msec\")\n",
    "comparison.compare(lambda x: round(x / 1000, 1))"
   ]
  },
  {
   "cell_type": "code",
   "execution_count": null,
   "metadata": {
    "collapsed": false,
    "deletable": true,
    "editable": true
   },
   "outputs": [],
   "source": [
    "comparison.set_title(\"Normalized Query Groups - Column vs. Row\")\n",
    "comparison.compare()"
   ]
  },
  {
   "cell_type": "code",
   "execution_count": null,
   "metadata": {
    "collapsed": false,
    "deletable": true,
    "editable": true
   },
   "outputs": [],
   "source": [
    "row_benchmark = analyser.get_row_benchmark()\n",
    "\n",
    "query_stats = row_benchmark.get_query_stats(lambda x: not re.search(\"\\\\.\", x))\n",
    "comparison = Comparison(row_benchmark,*query_stats)\n",
    "comparison.compare_raw()"
   ]
  },
  {
   "cell_type": "code",
   "execution_count": null,
   "metadata": {
    "collapsed": false,
    "deletable": true,
    "editable": true
   },
   "outputs": [],
   "source": [
    "column_benchmark = analyser.get_column_benchmark()\n",
    "row_benchmark = analyser.get_row_benchmark()\n",
    "\n",
    "row_query_stats = row_benchmark.get_query_stats(lambda x: not re.search(\"\\\\.\", x))\n",
    "row_comparison = Comparison(*row_query_stats, name=\"Row Store\")\n",
    "column_query_stats = column_benchmark.get_query_stats(lambda x: not re.search(\"\\\\.\", x))\n",
    "column_comparison = Comparison(*column_query_stats, name=\"Column Store\")\n",
    "\n",
    "row_comparison.set_title(\"Queries - Row vs. Column in msec\")\n",
    "row_comparison.compare_with(column_comparison, \"Average\")"
   ]
  },
  {
   "cell_type": "code",
   "execution_count": null,
   "metadata": {
    "collapsed": false,
    "deletable": true,
    "editable": true,
    "scrolled": true
   },
   "outputs": [],
   "source": [
    "column_benchmark = analyser.get_column_benchmark()\n",
    "row_benchmark = analyser.get_row_benchmark()\n",
    "\n",
    "row_query_stats = row_benchmark.get_query_stats(lambda x: re.search(\"\\\\.\", x))\n",
    "row_comparison = Comparison(*row_query_stats, name=\"Row Store\")\n",
    "column_query_stats = column_benchmark.get_query_stats(lambda x: re.search(\"\\\\.\", x))\n",
    "column_comparison = Comparison(*column_query_stats, name=\"Column Store\")\n",
    "\n",
    "row_comparison.set_title(\"Queries - Row vs. Column in msec\")\n",
    "row_comparison.compare_with(column_comparison, \"Average\",\n",
    "                            f=lambda x: round(x / 1000, 2),\n",
    "                            ignore=lambda x: x == \"in %\")"
   ]
  },
  {
   "cell_type": "markdown",
   "metadata": {
    "deletable": true,
    "editable": true
   },
   "source": [
    "### Stabilität des Benchmarks\n",
    "\n",
    "#### Spaltenbasiert"
   ]
  },
  {
   "cell_type": "code",
   "execution_count": null,
   "metadata": {
    "collapsed": false,
    "deletable": true,
    "editable": true
   },
   "outputs": [],
   "source": [
    "from matplotlib import pyplot as plt, mlab\n",
    "\n",
    "benchmark = analyser.get_column_benchmark()\n",
    "plt.plot(benchmark.get_times())\n",
    "plt.show()"
   ]
  },
  {
   "cell_type": "markdown",
   "metadata": {
    "deletable": true,
    "editable": true
   },
   "source": [
    "#### Zeilenbasiert"
   ]
  },
  {
   "cell_type": "code",
   "execution_count": null,
   "metadata": {
    "collapsed": false,
    "deletable": true,
    "editable": true
   },
   "outputs": [],
   "source": [
    "benchmark = analyser.get_row_benchmark()\n",
    "plt.plot(benchmark.get_times())\n",
    "plt.show()"
   ]
  },
  {
   "cell_type": "markdown",
   "metadata": {
    "deletable": true,
    "editable": true
   },
   "source": [
    "## Betrachtung einzelner Queries\n",
    "Im folgenden werden die einzelnen Queries des SSBM Benchmarks betrachtet.\n",
    "\n",
    "### Spaltenbasiert"
   ]
  },
  {
   "cell_type": "code",
   "execution_count": null,
   "metadata": {
    "collapsed": false,
    "deletable": true,
    "editable": true,
    "scrolled": false
   },
   "outputs": [],
   "source": [
    "from util import display_table\n",
    "import re\n",
    "\n",
    "benchmark = analyser.get_column_benchmark()\n",
    "\n",
    "query_stats = benchmark.get_query_stats(lambda x: not re.search(\"\\\\.\", x))\n",
    "comparison = Comparison(*query_stats)\n",
    "comparison.set_title(\"Query Group Duration - Column Store\")\n",
    "comparison.compare_visually()"
   ]
  },
  {
   "cell_type": "code",
   "execution_count": null,
   "metadata": {
    "collapsed": false,
    "deletable": true,
    "editable": true
   },
   "outputs": [],
   "source": [
    "query_stats = benchmark.get_query_stats()\n",
    "comparison = Comparison(*query_stats)\n",
    "comparison.set_title(\"Queries Duration - Column Store\")\n",
    "comparison.compare_visually()"
   ]
  },
  {
   "cell_type": "code",
   "execution_count": null,
   "metadata": {
    "collapsed": false,
    "deletable": true,
    "editable": true
   },
   "outputs": [],
   "source": [
    "comparison.set_title(\"Queries Duration in usec - Column Store\")\n",
    "comparison.compare_raw()"
   ]
  },
  {
   "cell_type": "code",
   "execution_count": null,
   "metadata": {
    "collapsed": false,
    "deletable": true,
    "editable": true,
    "scrolled": true
   },
   "outputs": [],
   "source": [
    "comparison.set_title(\"Normalized Queries Duration - Column Store\")\n",
    "comparison.compare()"
   ]
  },
  {
   "cell_type": "code",
   "execution_count": null,
   "metadata": {
    "collapsed": false,
    "deletable": true,
    "editable": true,
    "scrolled": false
   },
   "outputs": [],
   "source": [
    "query_stats = benchmark.get_query_stats(lambda x: re.search(\"[13]\\\\.\", x))\n",
    "comparison = Comparison(*query_stats)\n",
    "comparison.set_title(\"Q1, Q3 Queries Duration - Column Store\")\n",
    "comparison.compare_visually()"
   ]
  },
  {
   "cell_type": "code",
   "execution_count": null,
   "metadata": {
    "collapsed": false,
    "deletable": true,
    "editable": true,
    "scrolled": true
   },
   "outputs": [],
   "source": [
    "comparison.set_title(\"Q1, Q3 Queries Duration in usec - Column Store\")\n",
    "comparison.compare_raw()"
   ]
  },
  {
   "cell_type": "code",
   "execution_count": null,
   "metadata": {
    "collapsed": false,
    "deletable": true,
    "editable": true,
    "scrolled": true
   },
   "outputs": [],
   "source": [
    "comparison.set_title(\"Normalized Q1, Q3 Queries Duration - Column Store\")\n",
    "comparison.compare()"
   ]
  },
  {
   "cell_type": "code",
   "execution_count": null,
   "metadata": {
    "collapsed": false,
    "deletable": true,
    "editable": true,
    "scrolled": true
   },
   "outputs": [],
   "source": [
    "query_stats = benchmark.get_query_stats(lambda x: re.search(\"1\\\\.\", x))\n",
    "comparison = Comparison(*query_stats)\n",
    "comparison.set_title(\"Q1 Queries Duration - Column Store\")\n",
    "comparison.compare_visually()"
   ]
  },
  {
   "cell_type": "code",
   "execution_count": null,
   "metadata": {
    "collapsed": false,
    "deletable": true,
    "editable": true,
    "scrolled": true
   },
   "outputs": [],
   "source": [
    "comparison.set_title(\"Q1 Queries Duration in usec - Column Store\")\n",
    "comparison.compare_raw()"
   ]
  },
  {
   "cell_type": "code",
   "execution_count": null,
   "metadata": {
    "collapsed": false,
    "deletable": true,
    "editable": true,
    "scrolled": false
   },
   "outputs": [],
   "source": [
    "comparison.set_title(\"Normalized Q1 Queries Duration - Column Store\")\n",
    "comparison.compare()"
   ]
  },
  {
   "cell_type": "code",
   "execution_count": null,
   "metadata": {
    "collapsed": false,
    "deletable": true,
    "editable": true,
    "scrolled": true
   },
   "outputs": [],
   "source": [
    "query_stats = benchmark.get_query_stats(lambda x: re.search(\"3\\\\.\", x))\n",
    "comparison = Comparison(*query_stats)\n",
    "comparison.set_title(\"Q3 Queries Duration - Column Store\")\n",
    "comparison.compare_visually()"
   ]
  },
  {
   "cell_type": "code",
   "execution_count": null,
   "metadata": {
    "collapsed": false,
    "deletable": true,
    "editable": true,
    "scrolled": true
   },
   "outputs": [],
   "source": [
    "comparison.set_title(\"Q3 Queries Duration in usec - Column Store\")\n",
    "comparison.compare_raw()"
   ]
  },
  {
   "cell_type": "code",
   "execution_count": null,
   "metadata": {
    "collapsed": false,
    "deletable": true,
    "editable": true,
    "scrolled": true
   },
   "outputs": [],
   "source": [
    "comparison.set_title(\"Normalized Q3 Queries Duration - Column Store\")\n",
    "comparison.compare()"
   ]
  },
  {
   "cell_type": "markdown",
   "metadata": {
    "deletable": true,
    "editable": true
   },
   "source": [
    "## Zeilenbasiert"
   ]
  },
  {
   "cell_type": "code",
   "execution_count": null,
   "metadata": {
    "collapsed": false,
    "deletable": true,
    "editable": true,
    "scrolled": true
   },
   "outputs": [],
   "source": [
    "benchmark = analyser.get_row_benchmark()\n",
    "query_stats = benchmark.get_query_stats(lambda x: not re.search(\"\\\\.\", x))\n",
    "comparison = Comparison(*query_stats)\n",
    "comparison.set_title(\"Query Group Duration - Row Store\")\n",
    "comparison.compare_visually()"
   ]
  },
  {
   "cell_type": "code",
   "execution_count": null,
   "metadata": {
    "collapsed": false,
    "deletable": true,
    "editable": true,
    "scrolled": true
   },
   "outputs": [],
   "source": [
    "query_stats = benchmark.get_query_stats()\n",
    "comparison = Comparison(*query_stats)\n",
    "comparison.set_title(\"Queries Duration - Row Store\")\n",
    "comparison.compare_visually()"
   ]
  },
  {
   "cell_type": "code",
   "execution_count": null,
   "metadata": {
    "collapsed": false,
    "deletable": true,
    "editable": true,
    "scrolled": true
   },
   "outputs": [],
   "source": [
    "comparison.set_title(\"Queries Duration in usec - Row Store\")\n",
    "comparison.compare_raw()"
   ]
  },
  {
   "cell_type": "code",
   "execution_count": null,
   "metadata": {
    "collapsed": false,
    "deletable": true,
    "editable": true
   },
   "outputs": [],
   "source": [
    "comparison.set_title(\"Normalized Queries Duration - Row Store\")\n",
    "comparison.compare()"
   ]
  },
  {
   "cell_type": "code",
   "execution_count": null,
   "metadata": {
    "collapsed": false,
    "deletable": true,
    "editable": true
   },
   "outputs": [],
   "source": [
    "query_stats = benchmark.get_query_stats(lambda x: re.search(\"[13]\\\\.\", x))\n",
    "comparison = Comparison(*query_stats)\n",
    "comparison.set_title(\"Q1, Q3 Queries Duration - Row Store\")\n",
    "comparison.compare_visually()"
   ]
  },
  {
   "cell_type": "code",
   "execution_count": null,
   "metadata": {
    "collapsed": false,
    "deletable": true,
    "editable": true
   },
   "outputs": [],
   "source": [
    "comparison.set_title(\"Q1, Q3 Queries Duration in usec - Row Store\")\n",
    "comparison.compare_raw()"
   ]
  },
  {
   "cell_type": "code",
   "execution_count": null,
   "metadata": {
    "collapsed": false,
    "deletable": true,
    "editable": true,
    "scrolled": false
   },
   "outputs": [],
   "source": [
    "comparison.set_title(\"Normalized Q1, Q3 Queries Duration - Row Store\")\n",
    "comparison.compare()"
   ]
  },
  {
   "cell_type": "code",
   "execution_count": null,
   "metadata": {
    "collapsed": false,
    "deletable": true,
    "editable": true,
    "scrolled": true
   },
   "outputs": [],
   "source": [
    "query_stats = benchmark.get_query_stats(lambda x: re.search(\"3\\\\.\", x))\n",
    "comparison = Comparison(*query_stats)\n",
    "comparison.set_title(\"Q3 Queries Duration - Row Store\")\n",
    "comparison.compare_visually()"
   ]
  },
  {
   "cell_type": "code",
   "execution_count": null,
   "metadata": {
    "collapsed": false,
    "deletable": true,
    "editable": true,
    "scrolled": true
   },
   "outputs": [],
   "source": [
    "comparison.set_title(\"Q3 Queries Duration in usec - Row Store\")\n",
    "comparison.compare_raw()"
   ]
  },
  {
   "cell_type": "code",
   "execution_count": null,
   "metadata": {
    "collapsed": false,
    "deletable": true,
    "editable": true,
    "scrolled": false
   },
   "outputs": [],
   "source": [
    "comparison.set_title(\"Normalized Q3 Queries Duration - Column Store\")\n",
    "comparison.compare()"
   ]
  },
  {
   "cell_type": "code",
   "execution_count": null,
   "metadata": {
    "collapsed": false,
    "deletable": true,
    "editable": true,
    "scrolled": true
   },
   "outputs": [],
   "source": [
    "query_stats = benchmark.get_query_stats(lambda x: re.search(\"1\\\\.\", x))\n",
    "comparison = Comparison(*query_stats)\n",
    "comparison.set_title(\"Q1 Queries Duration - Row Store\")\n",
    "comparison.compare_visually()"
   ]
  },
  {
   "cell_type": "code",
   "execution_count": null,
   "metadata": {
    "collapsed": false,
    "deletable": true,
    "editable": true,
    "scrolled": true
   },
   "outputs": [],
   "source": [
    "comparison.set_title(\"Q1 Queries Duration in usec - Row Store\")\n",
    "comparison.compare_raw()"
   ]
  },
  {
   "cell_type": "code",
   "execution_count": null,
   "metadata": {
    "collapsed": false,
    "deletable": true,
    "editable": true,
    "scrolled": false
   },
   "outputs": [],
   "source": [
    "comparison.set_title(\"Normalized Q1 Queries Duration - Column Store\")\n",
    "comparison.compare()"
   ]
  },
  {
   "cell_type": "markdown",
   "metadata": {
    "deletable": true,
    "editable": true
   },
   "source": [
    "## Indizes\n",
    "\n",
    "### Vergleich von allen Messwerten"
   ]
  },
  {
   "cell_type": "code",
   "execution_count": null,
   "metadata": {
    "collapsed": false,
    "deletable": true,
    "editable": true
   },
   "outputs": [],
   "source": [
    "column_benchmark = analyser.get_column_benchmark()\n",
    "index_column_benchmark = analyser.get_column_benchmark_I()\n",
    "row_benchmark = analyser.get_row_benchmark()\n",
    "index_row_benchmark = analyser.get_row_benchmark_I()\n",
    "comparison = Comparison(column_benchmark, index_column_benchmark, row_benchmark, index_row_benchmark)\n",
    "\n",
    "comparison.compare_raw()"
   ]
  },
  {
   "cell_type": "code",
   "execution_count": null,
   "metadata": {
    "collapsed": false,
    "deletable": true,
    "editable": true
   },
   "outputs": [],
   "source": [
    "comparison.compare()"
   ]
  },
  {
   "cell_type": "markdown",
   "metadata": {
    "deletable": true,
    "editable": true
   },
   "source": [
    "### Spaltenbasiert"
   ]
  },
  {
   "cell_type": "code",
   "execution_count": null,
   "metadata": {
    "collapsed": false,
    "deletable": true,
    "editable": true
   },
   "outputs": [],
   "source": [
    "column_benchmark = analyser.get_column_benchmark()\n",
    "index_column_benchmark = analyser.get_column_benchmark_I()\n",
    "comparison = Comparison(column_benchmark, index_column_benchmark)\n",
    "\n",
    "comparison.set_title(\"Comparison of Indices - Column Store\")\n",
    "comparison.compare_visually()"
   ]
  },
  {
   "cell_type": "code",
   "execution_count": null,
   "metadata": {
    "collapsed": false,
    "deletable": true,
    "editable": true,
    "scrolled": true
   },
   "outputs": [],
   "source": [
    "comparison.set_title(\"Comparison of Indices in usec - Column Store\")\n",
    "comparison.compare_raw()"
   ]
  },
  {
   "cell_type": "code",
   "execution_count": null,
   "metadata": {
    "collapsed": false,
    "deletable": true,
    "editable": true
   },
   "outputs": [],
   "source": [
    "from util import Analyser\n",
    "LOG_PATH_ROOT=\"./\"\n",
    "analyser2 = Analyser(LOG_PATH_ROOT + \"logOlap.log\")\n",
    "\n",
    "column_benchmark = analyser2.get_column_benchmark()\n",
    "index_column_benchmark = analyser2.get_column_benchmark_I()\n",
    "column_benchmark_o = analyser2.get_column_benchmark_olap()\n",
    "index_column_benchmark_o = analyser2.get_column_benchmark_I_olap()\n",
    "\n",
    "query_stats_no = column_benchmark.get_query_stats(lambda x: re.search(\"1\\\\.2\", x))\n",
    "query_stats = index_column_benchmark.get_query_stats(lambda x: re.search(\"1\\\\.2\", x))\n",
    "query_stats_no_olap = column_benchmark_o.get_query_stats(lambda x: re.search(\"1\\\\.2\", x))\n",
    "query_stats_olap = index_column_benchmark_o.get_query_stats(lambda x: re.search(\"1\\\\.2\", x))\n",
    "comparison = Comparison(*query_stats_no)\n",
    "comparison.set_title(\"No index, no OLAP\")\n",
    "comparison.compare_raw()\n",
    "\n",
    "comparison2 = Comparison(*query_stats)\n",
    "comparison2.set_title(\"Index, no OLAP\")\n",
    "comparison2.compare_raw()\n",
    "\n",
    "comparison3 = Comparison(*query_stats_no_olap)\n",
    "comparison3.set_title(\"No index, OLAP\")\n",
    "comparison3.compare_raw()\n",
    "\n",
    "comparison4 = Comparison(*query_stats_olap)\n",
    "comparison4.set_title(\"Index, OLAP\")\n",
    "comparison4.compare_raw()\n",
    "\n"
   ]
  },
  {
   "cell_type": "code",
   "execution_count": null,
   "metadata": {
    "collapsed": false,
    "deletable": true,
    "editable": true
   },
   "outputs": [],
   "source": [
    "comparison = Comparison(index_column_benchmark,column_benchmark, column_benchmark_o, index_column_benchmark_o)\n",
    "comparison.compare_raw()"
   ]
  },
  {
   "cell_type": "markdown",
   "metadata": {
    "deletable": true,
    "editable": true
   },
   "source": [
    "### Zeilenbasiert"
   ]
  },
  {
   "cell_type": "code",
   "execution_count": null,
   "metadata": {
    "collapsed": true,
    "deletable": true,
    "editable": true
   },
   "outputs": [],
   "source": [
    "row_benchmark = analyser.get_row_benchmark()\n",
    "index_row_benchmark = analyser.get_row_benchmark_I()\n",
    "comparison = Comparison(row_benchmark, index_row_benchmark)\n",
    "\n",
    "comparison.set_title(\"Comparison of Indices - Row Store\")\n",
    "comparison.compare_visually()"
   ]
  },
  {
   "cell_type": "code",
   "execution_count": null,
   "metadata": {
    "collapsed": true,
    "deletable": true,
    "editable": true,
    "scrolled": false
   },
   "outputs": [],
   "source": [
    "comparison.set_title(\"Comparison of Indices in usec - Row Store\")\n",
    "comparison.compare_raw()"
   ]
  },
  {
   "cell_type": "code",
   "execution_count": null,
   "metadata": {
    "collapsed": true,
    "deletable": true,
    "editable": true
   },
   "outputs": [],
   "source": []
  },
  {
   "cell_type": "markdown",
   "metadata": {
    "deletable": true,
    "editable": true
   },
   "source": [
    "## Hardware Vergleich\n",
    "\n",
    "### Einstellungen"
   ]
  },
  {
   "cell_type": "code",
   "execution_count": null,
   "metadata": {
    "collapsed": true,
    "deletable": true,
    "editable": true
   },
   "outputs": [],
   "source": [
    "a6 = Analyser(LOG_PATH_ROOT + \"12gb6cores.log\")\n",
    "a4 = Analyser(LOG_PATH_ROOT + \"i7-4core.log\")\n",
    "a2 = Analyser(LOG_PATH_ROOT + \"i7-2core.log\")\n",
    "\n",
    "aGb12 = Analyser(LOG_PATH_ROOT + \"12gb6cores.log\")\n",
    "aGb8 = Analyser(LOG_PATH_ROOT + \"8gb6cores.log\")\n",
    "aGb6 = Analyser(LOG_PATH_ROOT + \"6gb6cores.log\")"
   ]
  },
  {
   "cell_type": "markdown",
   "metadata": {
    "deletable": true,
    "editable": true
   },
   "source": [
    "### Spaltenbasiert\n",
    "#### CPU"
   ]
  },
  {
   "cell_type": "code",
   "execution_count": null,
   "metadata": {
    "collapsed": true,
    "deletable": true,
    "editable": true
   },
   "outputs": [],
   "source": [
    "b6 = a6.get_column_benchmark()\n",
    "b4 = a4.get_column_benchmark()\n",
    "b2 = a2.get_column_benchmark()\n",
    "\n",
    "b6.set_name(\"6 cores\")\n",
    "b4.set_name(\"4 cores\")\n",
    "b2.set_name(\"2 cores\")\n",
    "\n",
    "comparison = Comparison(b2, b4, b6)\n",
    "comparison.set_title(\"Comparison of CPUs - Column Store\")\n",
    "comparison.compare_visually()"
   ]
  },
  {
   "cell_type": "code",
   "execution_count": null,
   "metadata": {
    "collapsed": true,
    "deletable": true,
    "editable": true
   },
   "outputs": [],
   "source": [
    "comparison.set_title(\"Comparison of CPUs in usec - Column Store\")\n",
    "comparison.compare_raw()"
   ]
  },
  {
   "cell_type": "code",
   "execution_count": null,
   "metadata": {
    "collapsed": true,
    "deletable": true,
    "editable": true
   },
   "outputs": [],
   "source": [
    "comparison.set_title(\"Normalized Comparison of CPUs - Column Store\")\n",
    "comparison.compare()"
   ]
  },
  {
   "cell_type": "markdown",
   "metadata": {
    "deletable": true,
    "editable": true
   },
   "source": [
    "#### RAM"
   ]
  },
  {
   "cell_type": "code",
   "execution_count": null,
   "metadata": {
    "collapsed": true,
    "deletable": true,
    "editable": true
   },
   "outputs": [],
   "source": [
    "b12 = aGb12.get_column_benchmark()\n",
    "b8 = aGb8.get_column_benchmark()\n",
    "b6 = aGb6.get_column_benchmark()\n",
    "\n",
    "b12.set_name(\"12 Gb\")\n",
    "b8.set_name(\"8 Gb\")\n",
    "b6.set_name(\"6 Gb\")\n",
    "\n",
    "comparison = Comparison(b6, b8, b12)\n",
    "comparison.set_title(\"Comparison of RAM - Column Store\")\n",
    "comparison.compare_visually()"
   ]
  },
  {
   "cell_type": "code",
   "execution_count": null,
   "metadata": {
    "collapsed": true,
    "deletable": true,
    "editable": true
   },
   "outputs": [],
   "source": [
    "comparison.set_title(\"Comparison of RAM in usec - Column Store\")\n",
    "comparison.compare_raw()"
   ]
  },
  {
   "cell_type": "code",
   "execution_count": null,
   "metadata": {
    "collapsed": true,
    "deletable": true,
    "editable": true
   },
   "outputs": [],
   "source": [
    "comparison.set_title(\"Normalized Comparison of RAM - Column Store\")\n",
    "comparison.compare()"
   ]
  },
  {
   "cell_type": "markdown",
   "metadata": {
    "deletable": true,
    "editable": true
   },
   "source": [
    "### Zeilenbasiert\n",
    "#### CPU"
   ]
  },
  {
   "cell_type": "code",
   "execution_count": null,
   "metadata": {
    "collapsed": true,
    "deletable": true,
    "editable": true
   },
   "outputs": [],
   "source": [
    "b6 = a6.get_row_benchmark()\n",
    "b4 = a4.get_row_benchmark()\n",
    "b2 = a2.get_row_benchmark()\n",
    "\n",
    "b6.set_name(\"6 cores\")\n",
    "b4.set_name(\"4 cores\")\n",
    "b2.set_name(\"2 cores\")\n",
    "\n",
    "comparison = Comparison(b2, b4, b6)\n",
    "comparison.set_title(\"Comparison of CPUs - Row Store\")\n",
    "comparison.compare_visually()"
   ]
  },
  {
   "cell_type": "code",
   "execution_count": null,
   "metadata": {
    "collapsed": true,
    "deletable": true,
    "editable": true,
    "scrolled": true
   },
   "outputs": [],
   "source": [
    "comparison.set_title(\"Comparison of CPUs in usec - Row Store\")\n",
    "comparison.compare_raw()"
   ]
  },
  {
   "cell_type": "markdown",
   "metadata": {
    "deletable": true,
    "editable": true
   },
   "source": [
    "#### RAM"
   ]
  },
  {
   "cell_type": "code",
   "execution_count": null,
   "metadata": {
    "collapsed": true,
    "deletable": true,
    "editable": true
   },
   "outputs": [],
   "source": [
    "b12 = aGb12.get_row_benchmark()\n",
    "b8 = aGb8.get_row_benchmark()\n",
    "b6 = aGb6.get_row_benchmark()\n",
    "\n",
    "b12.set_name(\"12 Gb\")\n",
    "b8.set_name(\"8 Gb\")\n",
    "b6.set_name(\"6 Gb\")\n",
    "\n",
    "comparison = Comparison(b6, b8, b12)\n",
    "comparison.set_title(\"Comparison of RAM - Row Store\")\n",
    "comparison.compare_visually()"
   ]
  },
  {
   "cell_type": "code",
   "execution_count": null,
   "metadata": {
    "collapsed": true,
    "deletable": true,
    "editable": true
   },
   "outputs": [],
   "source": [
    "comparison.set_title(\"Comparison of RAM in usec - Row Store\")\n",
    "comparison.compare_raw()"
   ]
  },
  {
   "cell_type": "code",
   "execution_count": null,
   "metadata": {
    "collapsed": true,
    "deletable": true,
    "editable": true
   },
   "outputs": [],
   "source": [
    "comparison.set_title(\"Normalized Comparison of RAM - Row Store\")\n",
    "comparison.compare()"
   ]
  }
 ],
 "metadata": {
  "kernelspec": {
   "display_name": "Python 3",
   "language": "python",
   "name": "python3"
  },
  "language_info": {
   "codemirror_mode": {
    "name": "ipython",
    "version": 3
   },
   "file_extension": ".py",
   "mimetype": "text/x-python",
   "name": "python",
   "nbconvert_exporter": "python",
   "pygments_lexer": "ipython3",
   "version": "3.5.2"
  }
 },
 "nbformat": 4,
 "nbformat_minor": 2
}
