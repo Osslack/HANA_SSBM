{
 "cells": [
  {
   "cell_type": "markdown",
   "metadata": {},
   "source": [
    "# Interpretation der HANA - SSBM Benchmark Log Datein\n",
    "\n",
    "## Settings\n",
    "\n",
    "Please adjust the following paths according to your environment."
   ]
  },
  {
   "cell_type": "code",
   "execution_count": 1,
   "metadata": {},
   "outputs": [],
   "source": [
    "from util import Analyser\n",
    "LOG_PATH=\"../../../ssbm/log.log\"\n",
    "analyser = Analyser(LOG_PATH)"
   ]
  },
  {
   "cell_type": "markdown",
   "metadata": {},
   "source": [
    "## Repetitions"
   ]
  },
  {
   "cell_type": "code",
   "execution_count": 2,
   "metadata": {
    "scrolled": true
   },
   "outputs": [
    {
     "name": "stdout",
     "output_type": "stream",
     "text": [
      "250\n"
     ]
    }
   ],
   "source": [
    "print(analyser.get_repetitions())"
   ]
  },
  {
   "cell_type": "markdown",
   "metadata": {},
   "source": [
    "## Row"
   ]
  },
  {
   "cell_type": "code",
   "execution_count": 3,
   "metadata": {
    "scrolled": true
   },
   "outputs": [
    {
     "data": {
      "text/html": [
       "<table><tbody><tr><td>Samples</td><td>250</td></tr><tr><td>Average</td><td>8145029.0</td></tr><tr><td>Min</td><td>7898365</td></tr><tr><td>Max</td><td>10169894</td></tr><tr><td>Median</td><td>8121576.0</td></tr><tr><td>Standard Deviation</td><td>190911.0</td></tr><tr><td>Total</td><td>2036257355</td></tr></tbody></table>"
      ],
      "text/plain": [
       "<IPython.core.display.HTML object>"
      ]
     },
     "metadata": {},
     "output_type": "display_data"
    }
   ],
   "source": [
    "benchmark = analyser.get_row_benchmark()\n",
    "analyser.print_benchmark_stats(benchmark)"
   ]
  },
  {
   "cell_type": "markdown",
   "metadata": {},
   "source": [
    "## Column"
   ]
  },
  {
   "cell_type": "code",
   "execution_count": 4,
   "metadata": {
    "scrolled": true
   },
   "outputs": [
    {
     "data": {
      "text/html": [
       "<table><tbody><tr><td>Samples</td><td>250</td></tr><tr><td>Average</td><td>953132.0</td></tr><tr><td>Min</td><td>883485</td></tr><tr><td>Max</td><td>1607694</td></tr><tr><td>Median</td><td>945048.0</td></tr><tr><td>Standard Deviation</td><td>58230.0</td></tr><tr><td>Total</td><td>238283078</td></tr></tbody></table>"
      ],
      "text/plain": [
       "<IPython.core.display.HTML object>"
      ]
     },
     "metadata": {},
     "output_type": "display_data"
    }
   ],
   "source": [
    "benchmark = analyser.get_column_benchmark()\n",
    "analyser.print_benchmark_stats(benchmark)"
   ]
  },
  {
   "cell_type": "code",
   "execution_count": 5,
   "metadata": {},
   "outputs": [
    {
     "data": {
      "text/html": [
       "<table><tbody><tr><td></td><td>Column Benchmark</td><td>Row Benchmark</td></tr><tr><td>Total</td><td>238283078</td><td>2036257355</td></tr><tr><td>Average</td><td>953132.0</td><td>8145029.0</td></tr><tr><td>Median</td><td>945048.0</td><td>8121576.0</td></tr><tr><td>Min</td><td>883485</td><td>7898365</td></tr><tr><td>Max</td><td>1607694</td><td>10169894</td></tr><tr><td>Standard Deviation</td><td>58230.0</td><td>190911.0</td></tr><tr><td>Samples</td><td>250</td><td>250</td></tr></tbody></table>"
      ],
      "text/plain": [
       "<IPython.core.display.HTML object>"
      ]
     },
     "metadata": {},
     "output_type": "display_data"
    }
   ],
   "source": [
    "from util import Comparison\n",
    "\n",
    "column_benchmark = analyser.get_column_benchmark()\n",
    "row_benchmark = analyser.get_row_benchmark()\n",
    "comparison = Comparison(column_benchmark, row_benchmark)\n",
    "\n",
    "comparison.print()"
   ]
  },
  {
   "cell_type": "code",
   "execution_count": 6,
   "metadata": {},
   "outputs": [
    {
     "name": "stdout",
     "output_type": "stream",
     "text": [
      "['./sql/benchmark/q3_bench/q3.2.sql', './sql/benchmark/q1_bench/q1.sql', './sql/benchmark/q1_bench/q1.1.sql', './sql/benchmark/q1_bench/q1.2.sql', './sql/benchmark/q3_bench/q3.4.sql', './sql/benchmark/q2_bench/q2.sql', './sql/benchmark/q2_bench/q2.1.sql', './sql/benchmark/q3_bench/q3.3.sql', './sql/benchmark/q2_bench/q2.2.sql', './sql/benchmark/q2_bench/q2.3.sql', './sql/benchmark/q4_bench/q4.3.sql', './sql/benchmark/q4_bench/q4.2.sql', './sql/benchmark/q3_bench/q3.sql', './sql/benchmark/q4_bench/q4.sql', './sql/benchmark/q3_bench/q3.1.sql', './sql/benchmark/q4_bench/q4.1.sql', './sql/benchmark/q1_bench/q1.3.sql']\n"
     ]
    }
   ],
   "source": [
    "column_benchmark = analyser.get_column_benchmark()\n",
    "queries = column_benchmark.get_all_querynames()\n",
    "print(list(queries))"
   ]
  },
  {
   "cell_type": "code",
   "execution_count": 7,
   "metadata": {},
   "outputs": [
    {
     "data": {
      "image/png": "[encoded data removed]",
      "text/plain": [
       "<matplotlib.figure.Figure at 0x103494630>"
      ]
     },
     "metadata": {},
     "output_type": "display_data"
    }
   ],
   "source": [
    "from matplotlib import pyplot as plt, mlab\n",
    "\n",
    "benchmark = analyser.get_column_benchmark()\n",
    "plt.plot(benchmark.get_times())\n",
    "plt.show()"
   ]
  }
 ],
 "metadata": {
  "kernelspec": {
   "display_name": "Python 3",
   "language": "python",
   "name": "python3"
  },
  "language_info": {
   "codemirror_mode": {
    "name": "ipython",
    "version": 3
   },
   "file_extension": ".py",
   "mimetype": "text/x-python",
   "name": "python",
   "nbconvert_exporter": "python",
   "pygments_lexer": "ipython3",
   "version": "3.4.6"
  }
 },
 "nbformat": 4,
 "nbformat_minor": 2
}
